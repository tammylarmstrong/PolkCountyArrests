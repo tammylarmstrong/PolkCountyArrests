{
 "cells": [
  {
   "cell_type": "code",
   "execution_count": 1,
   "metadata": {
    "collapsed": false
   },
   "outputs": [
    {
     "name": "stdout",
     "output_type": "stream",
     "text": [
      "{'Name': 'AMANDA KAY RILEY', 'Age': '27', 'Race': 'White', 'Height': '5\\' 07\"', 'ID': '933689', 'Bond': '$1,000', 'Case #': 'SR297596', 'Eyes': 'Blue', 'Description': 'DOMESTIC ABUSE ASSAULT CAUSE BODILY INJURY/MENTAL ILLNESS', 'Weight': '182', 'Bond Type': 'Cash or Surety', 'Sex': 'Female', 'Hair': 'Red', 'Arrest date/time': '7/31/2016 8:41 PM'}\n",
      "{'Name': 'CHRISTOPHER JAMES CARTWRIGHT', 'Age': '28', 'Race': 'White', 'Height': '5\\' 09\"', 'ID': '948688', 'Bond': '$5,000', 'Case #': 'SM362119', 'Eyes': 'Blue', 'Description': 'VIOLATION OF NO CONTACT / PROTECTIVE ORDER', 'Weight': '180', 'Bond Type': 'Cash', 'Sex': 'Male', 'Hair': 'Brown', 'Arrest date/time': '7/31/2016 9:11 PM'}\n",
      "{'Name': 'ANTAWUN DEMARCUS THOMAS', 'Age': '46', 'Race': 'Black', 'Height': '6\\' 01\"', 'ID': '56590', 'Bond': '$10,000', 'Case #': 'FE296205', 'Eyes': 'Brown', 'Description': 'VIOLATION OF NO CONTACT / PROTECTIVE ORDER', 'Weight': '210', 'Bond Type': 'Cash', 'Sex': 'Male', 'Hair': 'Black', 'Arrest date/time': '7/31/2016 10:26 PM'}\n",
      "{'Name': 'ASHLEIGH MEGANN FONTANA', 'Age': '32', 'Race': 'White', 'Height': '5\\' 06\"', 'ID': '998340', 'Bond': '$5,000', 'Case #': 'FE286904', 'Eyes': 'Blue', 'Description': 'FORGERY', 'Weight': '150', 'Bond Type': 'Cash or Surety', 'Sex': 'Female', 'Hair': 'Blonde', 'Arrest date/time': '7/31/2016 11:45 PM'}\n",
      "{'Name': 'CHADANTONIO  GUTIERREZ', 'Age': '39', 'Race': 'White', 'Height': '6\\' 00\"', 'ID': '81751', 'Bond': '$5,000', 'Case #': 'FER297601', 'Eyes': 'Brown', 'Description': 'NARCS - POSSESSION SCH I - MARIJUANA', 'Weight': '250', 'Bond Type': 'Cash', 'Sex': 'Male', 'Hair': 'Black', 'Arrest date/time': '8/1/2016 5:35 AM'}\n",
      "{'Name': 'KRISTEN MICHELLE RUSSELL', 'Age': '37', 'Race': 'White', 'Height': '5\\' 09\"', 'ID': '1021483', 'Bond': '$0', 'Case #': 'AM295919', 'Eyes': 'Hazel', 'Description': 'VIOLATION OF PAROLE - 1985', 'Weight': '225', 'Bond Type': 'No Bond', 'Sex': 'Female', 'Hair': 'Blonde', 'Arrest date/time': '8/1/2016 5:44 AM'}\n",
      "{'Name': 'MARK STEVEN POOLE', 'Age': '55', 'Race': 'White', 'Height': '6\\' 00\"', 'ID': '865049', 'Bond': '$0', 'Case #': '', 'Eyes': 'Brown', 'Description': 'DOMESTIC ABUSE ASSAULT W/INTENT OR DISPLAYS A WEAPON', 'Weight': '125', 'Bond Type': 'No Bond', 'Sex': 'Male', 'Hair': 'Brown', 'Arrest date/time': '8/1/2016 6:52 AM'}\n",
      "{'Name': 'DERRICK ALLAN RAY', 'Age': '33', 'Race': 'White', 'Height': '6\\' 02\"', 'ID': '749948', 'Bond': '$0', 'Case #': 'FE268429', 'Eyes': 'Brown', 'Description': 'PROBATION VIOLATION', 'Weight': '200', 'Bond Type': 'No Bond', 'Sex': 'Male', 'Hair': 'Black', 'Arrest date/time': '8/1/2016 9:08 AM'}\n",
      "{'Name': 'TIMOTHY ARTHUR RHINER', 'Age': '56', 'Race': 'White', 'Height': '6\\' 00\"', 'ID': '1700', 'Bond': '$300', 'Case #': '', 'Eyes': 'Blue', 'Description': 'ASSAULT (SMMS)', 'Weight': '180', 'Bond Type': 'Cash or Surety', 'Sex': 'Male', 'Hair': 'Brown', 'Arrest date/time': '8/1/2016 9:15 AM'}\n",
      "{'Name': 'KIMBERLEY JILL KILGORE', 'Age': '47', 'Race': 'White', 'Height': '5\\' 05\"', 'ID': '138385', 'Bond': '$0', 'Case #': 'FE295307', 'Eyes': 'Green', 'Description': 'FORGERY', 'Weight': '185', 'Bond Type': 'No Bond', 'Sex': 'Female', 'Hair': 'Blonde', 'Arrest date/time': '8/1/2016 10:30 AM'}\n",
      "{'Name': 'RACHAEL RENAE ROEDER', 'Age': '30', 'Race': 'White', 'Height': '5\\' 04\"', 'ID': '986398', 'Bond': '$5,000', 'Case #': 'OW081367', 'Eyes': 'Blue', 'Description': 'OPERATING WHILE INTOXICATED - SECOND OFFENSE', 'Weight': '120', 'Bond Type': 'APPL', 'Sex': 'Female', 'Hair': 'Blonde', 'Arrest date/time': '8/1/2016 10:36 AM'}\n",
      "{'Name': 'VIRGIL DASHAWN HEARD', 'Age': '26', 'Race': 'Black', 'Height': '5\\' 09\"', 'ID': '1043205', 'Bond': '$1,000', 'Case #': 'SR294839', 'Eyes': 'Brown', 'Description': 'ASSAULT CAUSING BODILY INJURY OR MENTAL ILLNESS', 'Weight': '160', 'Bond Type': 'APPL', 'Sex': 'Male', 'Hair': 'Black', 'Arrest date/time': '8/1/2016 10:53 AM'}\n",
      "{'Name': 'KEVIN PATRICK DUROW', 'Age': '39', 'Race': 'White', 'Height': '6\\' 02\"', 'ID': '1052097', 'Bond': '$5,000', 'Case #': 'OW081543', 'Eyes': 'Blue', 'Description': 'OPERATING WHILE INTOXICATED, First Offense', 'Weight': '175', 'Bond Type': 'APPL', 'Sex': 'Male', 'Hair': 'Brown', 'Arrest date/time': '8/1/2016 10:59 AM'}\n",
      "{'Name': 'ASHLEY MARIE TETLEY', 'Age': '31', 'Race': 'White', 'Height': '5\\' 03\"', 'ID': '332844', 'Bond': '$100', 'Case #': 'DR037718', 'Eyes': 'Blue', 'Description': 'NONSUPPORT OF CHILD', 'Weight': '140', 'Bond Type': 'Cash', 'Sex': 'Female', 'Hair': 'Brown', 'Arrest date/time': '8/1/2016 11:05 AM'}\n",
      "{'Name': 'BRYAN LEVON TERRELL', 'Age': '38', 'Race': 'Black', 'Height': '5\\' 11\"', 'ID': '931029', 'Bond': '$0', 'Case #': 'US MARSHALS', 'Eyes': 'Brown', 'Description': 'DETAIN FOR U.S. MARSHAL', 'Weight': '230', 'Bond Type': 'No Bond', 'Sex': 'Male', 'Hair': 'Black', 'Arrest date/time': '8/1/2016 11:08 AM'}\n",
      "{'Name': 'MICHAEL L KING', 'Age': '25', 'Race': 'Black', 'Height': '\\' \"', 'ID': '1060163', 'Bond': '$0', 'Case #': 'US MARSHALS', 'Eyes': '', 'Description': 'DETAIN FOR U.S. MARSHAL', 'Weight': '0', 'Bond Type': 'No Bond', 'Sex': 'Male', 'Hair': '', 'Arrest date/time': '8/1/2016 11:13 AM'}\n",
      "{'Name': 'KAREEM ADUL-JAMIL ROBERTSON', 'Age': '38', 'Race': 'Black', 'Height': '5\\' 11\"', 'ID': '861835', 'Bond': '$0', 'Case #': 'OAKDALE', 'Eyes': 'Brown', 'Description': 'DETAIN FOR OTHER STATE AGENCY (DESCRIBE)', 'Weight': '254', 'Bond Type': 'No Bond', 'Sex': 'Male', 'Hair': 'Black', 'Arrest date/time': '8/1/2016 11:17 AM'}\n",
      "{'Name': 'DEANDRE MONTEZ BROWN', 'Age': '23', 'Race': 'Black', 'Height': '5\\' 10\"', 'ID': '329940', 'Bond': '$0', 'Case #': 'FE288793', 'Eyes': 'Brown', 'Description': 'DETAIN FOR OTHER STATE AGENCY (DESCRIBE)', 'Weight': '190', 'Bond Type': 'No Bond', 'Sex': 'Male', 'Hair': 'Black', 'Arrest date/time': '8/1/2016 11:28 AM'}\n",
      "{'Name': 'MATTHEW SHANE ELSBERRY', 'Age': '40', 'Race': 'White', 'Height': '5\\' 10\"', 'ID': '315538', 'Bond': '$23,000', 'Case #': 'CD081460', 'Eyes': 'Blue', 'Description': 'NONSUPPORT OF CHILD', 'Weight': '160', 'Bond Type': 'Cash', 'Sex': 'Male', 'Hair': 'Brown', 'Arrest date/time': '8/1/2016 11:36 AM'}\n",
      "{'Name': 'SUK BAHADUR ALLEY MONGER', 'Age': '27', 'Race': 'Asian', 'Height': '5\\' 03\"', 'ID': '706056', 'Bond': '$0', 'Case #': 'OW077167', 'Eyes': 'Brown', 'Description': 'PROBATION VIOLATION', 'Weight': '120', 'Bond Type': 'No Bond', 'Sex': 'Male', 'Hair': 'Black', 'Arrest date/time': '8/1/2016 11:42 AM'}\n",
      "{'Name': 'JENNIFER FAYE EDEN', 'Age': '34', 'Race': 'White', 'Height': '5\\' 08\"', 'ID': '612446', 'Bond': '$0', 'Case #': 'FE266532', 'Eyes': 'Blue', 'Description': 'PROBATION VIOLATION', 'Weight': '164', 'Bond Type': 'No Bond', 'Sex': 'Female', 'Hair': 'Brown', 'Arrest date/time': '8/1/2016 11:52 AM'}\n",
      "{'Name': 'CLAYTON EUGENE BUSSELL', 'Age': '36', 'Race': 'White', 'Height': '6\\' 00\"', 'ID': '484382', 'Bond': '$5,000', 'Case #': 'OW081266', 'Eyes': 'Green', 'Description': 'OPERATING WHILE INTOXICATED - SECOND OFFENSE', 'Weight': '295', 'Bond Type': 'APPL', 'Sex': 'Male', 'Hair': 'Brown', 'Arrest date/time': '8/1/2016 12:32 PM'}\n",
      "{'Name': 'DONTRE MAURICE ENGLISH LEWIS', 'Age': '18', 'Race': 'Black', 'Height': '6\\' 01\"', 'ID': '790095', 'Bond': '$2,000', 'Case #': 'AG293561', 'Eyes': 'Brown', 'Description': 'ELUDING (AGMS) ELUDING (AGMS)', 'Weight': '175', 'Bond Type': 'APPL', 'Sex': 'Male', 'Hair': 'Black', 'Arrest date/time': '8/1/2016 12:40 PM'}\n",
      "{'Name': 'CHRISTOPHER PATRICK VAVERKA', 'Age': '23', 'Race': 'White', 'Height': '5\\' 08\"', 'ID': '1060191', 'Bond': '$300', 'Case #': '', 'Eyes': 'Brown', 'Description': 'ASSAULT (SMMS)', 'Weight': '160', 'Bond Type': 'Cash or Surety', 'Sex': 'Male', 'Hair': 'Brown', 'Arrest date/time': '8/1/2016 1:36 PM'}\n",
      "{'Name': 'SHANIQUA TA`SHAE GULLY', 'Age': '25', 'Race': 'Black', 'Height': '5\\' 07\"', 'ID': '165696', 'Bond': '$4,000', 'Case #': 'AG286944', 'Eyes': 'Brown', 'Description': 'DRIVING WHILE BARRED - HABITUAL OFFENDER', 'Weight': '145', 'Bond Type': 'Cash', 'Sex': 'Female', 'Hair': 'Black', 'Arrest date/time': '8/1/2016 1:43 PM'}\n",
      "{'Name': 'JERAMEY JAY CARTEE', 'Age': '37', 'Race': 'White', 'Height': '6\\' 00\"', 'ID': '386341', 'Bond': '$0', 'Case #': 'FE297385', 'Eyes': 'Brown', 'Description': 'DOMESTIC ABUSE ASSAULT IMPEDING AIR/BLOOD FLOW CAUSING BODIL', 'Weight': '165', 'Bond Type': 'No Bond', 'Sex': 'Male', 'Hair': 'Black', 'Arrest date/time': '8/1/2016 2:15 PM'}\n",
      "{'Name': 'BRYAN DUWAYNE RIDOUT', 'Age': '55', 'Race': 'White', 'Height': '5\\' 08\"', 'ID': '213771', 'Bond': '$5,000', 'Case #': 'OM081405', 'Eyes': 'Blue', 'Description': 'OPERATING WHILE INTOXICATED - 1ST OFFENSE - OWI 1ST', 'Weight': '140', 'Bond Type': 'APPL', 'Sex': 'Male', 'Hair': 'Brown', 'Arrest date/time': '8/1/2016 3:40 PM'}\n",
      "{'Name': 'CHRISTINE LEANN HEYER', 'Age': '50', 'Race': 'White', 'Height': '5\\' 04\"', 'ID': '1060220', 'Bond': '$0', 'Case #': 'AM297298', 'Eyes': 'Brown', 'Description': 'VIOLATION OF PAROLE - 1985', 'Weight': '156', 'Bond Type': 'No Bond', 'Sex': 'Female', 'Hair': 'Brown', 'Arrest date/time': '8/1/2016 3:47 PM'}\n",
      "{'Name': 'JENNIFER RAE MALONE', 'Age': '35', 'Race': 'White', 'Height': '5\\' 04\"', 'ID': '1060221', 'Bond': '$0', 'Case #': 'AM296600', 'Eyes': 'Brown', 'Description': 'VIOLATION OF PAROLE - 1985', 'Weight': '199', 'Bond Type': 'No Bond', 'Sex': 'Female', 'Hair': 'Red', 'Arrest date/time': '8/1/2016 3:53 PM'}\n",
      "{'Name': 'MICHAEL NICHOLAS PAULI', 'Age': '29', 'Race': 'White', 'Height': '6\\' 01\"', 'ID': '685481', 'Bond': '$0', 'Case #': 'SM358039', 'Eyes': 'Blue', 'Description': 'VIOLATION OF NO CONTACT / PROTECTIVE ORDER', 'Weight': '210', 'Bond Type': 'No Bond', 'Sex': 'Male', 'Hair': 'Red', 'Arrest date/time': '8/1/2016 3:57 PM'}\n",
      "{'Name': 'CRAIG ALLEN WITTICK', 'Age': '42', 'Race': 'White', 'Height': '5\\' 09\"', 'ID': '127806', 'Bond': '$2,000', 'Case #': 'FE294497', 'Eyes': 'Blue', 'Description': 'NARCS - POSSESSION SCH II - METHAMPHETAMINE', 'Weight': '200', 'Bond Type': 'APPL', 'Sex': 'Male', 'Hair': 'Brown', 'Arrest date/time': '8/1/2016 4:04 PM'}\n"
     ]
    }
   ],
   "source": [
    "# -*- coding: utf-8 -*-\n",
    "\"\"\"\n",
    "Created on Mon Aug 01 18:15:05 2016\n",
    "Polk County arrest records crawler\n",
    "@author: Tammy\n",
    "\"\"\"\n",
    "\n",
    "import urllib2\n",
    "from bs4 import BeautifulSoup\n",
    "\n",
    "# define base URL for county website\n",
    "base = 'http://apps2.polkcountyiowa.gov/inmatesontheweb/Details.aspx?bi='\n",
    "# empty tuple that we will fill with dicts later\n",
    "master = []\n",
    "\n",
    "i = 235857 #arrest page number to start with\n",
    "test = range(1,50)\n",
    "\n",
    "for t in test:\n",
    "    site = base + str(i) #append this to the base url\n",
    "    url = urllib2.urlopen(site) #open the url\n",
    "    doc = url.read() #read the source code\n",
    "    src = BeautifulSoup(doc, 'html.parser') #parse the source code\n",
    "\n",
    "    a = src.find_all('td') #create a list of all td tags on the arrest record page\n",
    "    #clean up the td tag strings\n",
    "    if len(a) <> 0:\n",
    "        b=list()\n",
    "        for item in a:\n",
    "            b.append(str(item.string.strip()))\n",
    "\n",
    "        #define a dictionary of all the info housed in the tags\n",
    "        info = {'ID': b[0], 'Name': b[1], 'Arrest date/time': b[2], 'Age': b[3], \n",
    "        'Height': b[4], 'Weight': b[5], 'Race': b[6], 'Sex': b[7], \n",
    "        'Eyes': b[8], 'Hair': b[9], 'Case #': b[10], 'Description': b[11], \n",
    "        'Bond': b[12], 'Bond Type': b[13]}\n",
    "        \n",
    "        #add the latest info to a master tuple\n",
    "        master.append(info)\n",
    "    i = i+1 #move on to next one\n",
    "\n",
    "#show us our list of info!\n",
    "for criminal in master:\n",
    "    print(criminal)"
   ]
  },
  {
   "cell_type": "code",
   "execution_count": null,
   "metadata": {
    "collapsed": true
   },
   "outputs": [],
   "source": []
  }
 ],
 "metadata": {
  "kernelspec": {
   "display_name": "Python 2",
   "language": "python",
   "name": "python2"
  },
  "language_info": {
   "codemirror_mode": {
    "name": "ipython",
    "version": 2
   },
   "file_extension": ".py",
   "mimetype": "text/x-python",
   "name": "python",
   "nbconvert_exporter": "python",
   "pygments_lexer": "ipython2",
   "version": "2.7.10"
  }
 },
 "nbformat": 4,
 "nbformat_minor": 0
}
