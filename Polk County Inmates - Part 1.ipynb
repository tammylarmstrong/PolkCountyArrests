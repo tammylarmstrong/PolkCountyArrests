{
 "cells": [
  {
   "cell_type": "markdown",
   "metadata": {},
   "source": [
    "# Polk County Inmates - Part 1"
   ]
  },
  {
   "cell_type": "code",
   "execution_count": null,
   "metadata": {
    "collapsed": false,
    "scrolled": true
   },
   "outputs": [],
   "source": [
    "# -*- coding: utf-8 -*-\n",
    "\"\"\"\n",
    "Created on Mon Aug 01 18:15:05 2016\n",
    "Polk County arrest records crawler\n",
    "@author: Tammy\n",
    "\"\"\"\n",
    "import urllib2\n",
    "from bs4 import BeautifulSoup\n",
    "import re\n",
    "import pandas as pd\n",
    "\n",
    "# define base URL for county website\n",
    "base = 'http://apps2.polkcountyiowa.gov/inmatesontheweb/'\n",
    "# empty tuple that we will fill with dicts later\n",
    "master = []\n",
    "   \n",
    "# get the link IDs for each inmate page so that we can iterate over each\n",
    "url = urllib2.urlopen(base)\n",
    "doc = url.read()\n",
    "src = BeautifulSoup(doc, 'html.parser')\n",
    "\n",
    "arrests = src.find_all('a') # find all link tags on our table of contents page\n",
    "pattern = re.compile(\".*(bi)\") # the pattern we're looking for in the links\n",
    "\n",
    "# iterate through each link, check that it's the type we want, grab the rest of\n",
    "# the URL, then parse through each arrest page to grab info\n",
    "for arrest in range(1, len(arrests)): \n",
    "    if pattern.match(arrests[arrest]['href']) :\n",
    "        page = arrests[arrest]['href']\n",
    "        site = base + page\n",
    "        url2 = urllib2.urlopen(site)\n",
    "        doc2 = url2.read()\n",
    "        src2 = BeautifulSoup(doc2, 'html.parser')\n",
    "\n",
    "        # create a list of all td tags on the arrest record page\n",
    "        td = src2.find_all('td')\n",
    "        # clean up the td tag strings\n",
    "        b = list()\n",
    "        for t in td:\n",
    "            b.append(str(t.string.strip()))\n",
    "        \n",
    "        # define a dictionary of all the info housed in the tags\n",
    "        info = {'ID': b[0], 'Name': b[1], 'Arrest date/time': b[2], 'Age': int(b[3]), \n",
    "        'Height': b[4], 'Weight': int(b[5]), 'Race': b[6], 'Sex': b[7], \n",
    "        'Eyes': b[8], 'Hair': b[9], 'Case #': b[10], 'Description': b[11], \n",
    "        'Bond': b[12], 'Bond Type': b[13]}\n",
    "        \n",
    "        #add the latest info to a master tuple\n",
    "        master.append(info)"
   ]
  },
  {
   "cell_type": "code",
   "execution_count": 7,
   "metadata": {
    "collapsed": false
   },
   "outputs": [
    {
     "name": "stdout",
     "output_type": "stream",
     "text": [
      "{'Name': 'TONY ALLEN COLLETT', 'Age': 44, 'Race': 'White', 'Height': '5\\' 08\"', 'ID': '662409', 'Bond': '$1,000', 'Case #': 'WAPELLO', 'Eyes': 'Brown', 'Description': 'OPERATING WHILE INTOXICATED - 1ST OFFENSE - OWI 1ST', 'Weight': 230, 'Bond Type': 'Cash or Surety', 'Sex': 'Male', 'Hair': 'Gray', 'Arrest date/time': '8/11/2016 8:06 PM'}\n",
      "{'Name': 'TINA LOUISE GARRICK', 'Age': 44, 'Race': 'White', 'Height': '5\\' 07\"', 'ID': '1062131', 'Bond': '$300', 'Case #': '', 'Eyes': 'Blue', 'Description': 'POSSESSION OF DRUG PARAPHERNALIA', 'Weight': 150, 'Bond Type': 'Cash or Surety', 'Sex': 'Female', 'Hair': 'Brown', 'Arrest date/time': '8/11/2016 7:34 PM'}\n"
     ]
    }
   ],
   "source": [
    "# show a sample of our info\n",
    "print(master[1])\n",
    "print(master[2])"
   ]
  },
  {
   "cell_type": "code",
   "execution_count": 8,
   "metadata": {
    "collapsed": false
   },
   "outputs": [
    {
     "data": {
      "text/plain": [
       "<bound method DataFrame.describe of    Age   Arrest date/time    Bond       Bond Type    Case #  \\\n",
       "1   44  8/11/2016 8:06 PM  $1,000  Cash or Surety   WAPELLO   \n",
       "2   44  8/11/2016 7:34 PM    $300  Cash or Surety             \n",
       "3   53  8/11/2016 6:50 PM      $0         No Bond             \n",
       "4   30  8/11/2016 6:23 PM    $300  Cash or Surety             \n",
       "5   25  8/11/2016 5:52 PM    $300  Cash or Surety             \n",
       "6   30  8/11/2016 5:09 PM  $2,000            APPL  AG295142   \n",
       "7   35  8/11/2016 5:01 PM  $2,000  Cash or Surety  AG297849   \n",
       "8   32  8/11/2016 4:34 PM    $300  Cash or Surety             \n",
       "9   39  8/11/2016 4:15 PM  $1,000            APPL  AG295157   \n",
       "\n",
       "                                         Description   Eyes    Hair  Height  \\\n",
       "1  OPERATING WHILE INTOXICATED - 1ST OFFENSE - OW...  Brown    Gray  5' 08\"   \n",
       "2                   POSSESSION OF DRUG PARAPHERNALIA   Blue   Brown  5' 07\"   \n",
       "3  DOMESTIC ABUSE ASSAULT DISPLAY OR USE OF A WEA...   Blue  Blonde  5' 06\"   \n",
       "4                                   THEFT 5TH DEGREE   Blue  Blonde  5' 11\"   \n",
       "5             DRIVING WHILE LICENSE UNDER SUSPENSION  Brown   Brown  5' 10\"   \n",
       "6  UNAUTHORIZED USE OF CREDIT CARD OVER $1,000 UN...   Blue  Blonde  5' 05\"   \n",
       "7                                   THEFT 3RD DEGREE   Blue   Brown  6' 00\"   \n",
       "8                       TRESPASS -- No Damage/Injury  Hazel   Brown  6' 00\"   \n",
       "9                                     ASSAULT (SMMS)  Brown   Black  5' 09\"   \n",
       "\n",
       "        ID                     Name   Race     Sex  Weight  \n",
       "1   662409       TONY ALLEN COLLETT  White    Male     230  \n",
       "2  1062131      TINA LOUISE GARRICK  White  Female     150  \n",
       "3  1004075         CARLA SUE KESTER  White  Female     150  \n",
       "4    48257          RONNIE LEE HILL  White    Male     150  \n",
       "5   440035      PHILLIP JOHN BRUMER  White    Male     160  \n",
       "6   146762        ASHLEY LYNN NUNEZ  White  Female     155  \n",
       "7   149934     LADONNA ELNORA WOODS  White  Female     270  \n",
       "8    75424  JEBEDIAH CASSIDY STUMPF  White    Male     200  \n",
       "9    46387    DAVID PHILLIP COLEMAN  Black    Male     200  >"
      ]
     },
     "execution_count": 8,
     "metadata": {},
     "output_type": "execute_result"
    }
   ],
   "source": [
    "# turn into a data frame that we can play with, and see a sample of the data\n",
    "data = pd.DataFrame(master)\n",
    "data[1:10].describe"
   ]
  },
  {
   "cell_type": "code",
   "execution_count": 5,
   "metadata": {
    "collapsed": false
   },
   "outputs": [
    {
     "data": {
      "text/plain": [
       "White               0.679487\n",
       "Black               0.300699\n",
       "Asian               0.017483\n",
       "Pacific Islander    0.002331\n",
       "dtype: float64"
      ]
     },
     "execution_count": 5,
     "metadata": {},
     "output_type": "execute_result"
    }
   ],
   "source": [
    "# convert certain columns to categorical variables\n",
    "cats = ['Race', 'Sex', 'Eyes', 'Hair', 'Description', 'Bond Type']\n",
    "for cat in cats:\n",
    "    data[cat] = data[cat].astype('category')\n",
    "\n",
    "jailed = len(data['Race'])\n",
    "race_counts = data['Race'].value_counts()\n",
    "race_counts/jailed # percent of total inmates by race"
   ]
  }
 ],
 "metadata": {
  "kernelspec": {
   "display_name": "Python 2",
   "language": "python",
   "name": "python2"
  },
  "language_info": {
   "codemirror_mode": {
    "name": "ipython",
    "version": 2
   },
   "file_extension": ".py",
   "mimetype": "text/x-python",
   "name": "python",
   "nbconvert_exporter": "python",
   "pygments_lexer": "ipython2",
   "version": "2.7.10"
  }
 },
 "nbformat": 4,
 "nbformat_minor": 0
}
