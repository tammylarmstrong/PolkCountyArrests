{
 "cells": [
  {
   "cell_type": "markdown",
   "metadata": {},
   "source": [
    "# Polk County Inmates - Part 1"
   ]
  },
  {
   "cell_type": "code",
   "execution_count": null,
   "metadata": {
    "collapsed": true
   },
   "outputs": [],
   "source": [
    "# -*- coding: utf-8 -*-\n",
    "\"\"\"\n",
    "Created on Mon Aug 01 18:15:05 2016\n",
    "Polk County arrest records crawler\n",
    "@author: Tammy\n",
    "\"\"\"\n",
    "import urllib2\n",
    "from bs4 import BeautifulSoup\n",
    "import re\n",
    "import pandas as pd\n",
    "\n",
    "# define base URL for county website\n",
    "base = 'http://apps2.polkcountyiowa.gov/inmatesontheweb/'\n",
    "# empty tuple that we will fill with dicts later\n",
    "master = []\n",
    "   \n",
    "# get the link IDs for each inmate page so that we can iterate over each\n",
    "url = urllib2.urlopen(base)\n",
    "doc = url.read()\n",
    "src = BeautifulSoup(doc, 'html.parser')\n",
    "\n",
    "arrests = src.find_all('a') # find all link tags on our table of contents page\n",
    "pattern = re.compile(\".*(bi)\") # the pattern we're looking for in the links\n",
    "\n",
    "# iterate through each link, check that it's the type we want, grab the rest of\n",
    "# the URL, then parse through each arrest page to grab info\n",
    "for arrest in range(1, len(arrests)): \n",
    "    if pattern.match(arrests[arrest]['href']) :\n",
    "        page = arrests[arrest]['href']\n",
    "        site = base + page\n",
    "        url2 = urllib2.urlopen(site)\n",
    "        doc2 = url2.read()\n",
    "        src2 = BeautifulSoup(doc2, 'html.parser')\n",
    "\n",
    "        # create a list of all td tags on the arrest record page\n",
    "        td = src2.find_all('td')\n",
    "        # clean up the td tag strings\n",
    "        b = list()\n",
    "        for t in td:\n",
    "            b.append(str(t.string.strip()))\n",
    "        \n",
    "        # define a dictionary of all the info housed in the tags\n",
    "        info = {'ID': b[0], 'Name': b[1], 'Arrest date/time': b[2], 'Age': int(b[3]), \n",
    "        'Height': b[4], 'Weight': int(b[5]), 'Race': b[6], 'Sex': b[7], \n",
    "        'Eyes': b[8], 'Hair': b[9], 'Case #': b[10], 'Description': b[11], \n",
    "        'Bond': b[12], 'Bond Type': b[13]}\n",
    "        \n",
    "        #add the latest info to a master tuple\n",
    "        master.append(info)\n",
    "        \n",
    "# show us our list of info!\n",
    "for criminal in master:\n",
    "    print(criminal)"
   ]
  },
  {
   "cell_type": "code",
   "execution_count": null,
   "metadata": {
    "collapsed": true
   },
   "outputs": [],
   "source": [
    "# turn into a data frame that we can play with\n",
    "data = pd.DataFrame(master)\n",
    "data.describe"
   ]
  },
  {
   "cell_type": "code",
   "execution_count": null,
   "metadata": {
    "collapsed": true
   },
   "outputs": [],
   "source": [
    "# convert certain columns to categorical variables\n",
    "cats = ['Race', 'Sex', 'Eyes', 'Hair', 'Description', 'Bond Type']\n",
    "for cat in cats:\n",
    "    data[cat] = data[cat].astype('category')\n",
    "\n",
    "jailed = len(data['Race'])\n",
    "race_counts = data['Race'].value_counts()\n",
    "race_counts/jailed # percent of total inmates by race"
   ]
  }
 ],
 "metadata": {
  "kernelspec": {
   "display_name": "Python 2",
   "language": "python",
   "name": "python2"
  },
  "language_info": {
   "codemirror_mode": {
    "name": "ipython",
    "version": 2
   },
   "file_extension": ".py",
   "mimetype": "text/x-python",
   "name": "python",
   "nbconvert_exporter": "python",
   "pygments_lexer": "ipython2",
   "version": "2.7.10"
  }
 },
 "nbformat": 4,
 "nbformat_minor": 0
}
